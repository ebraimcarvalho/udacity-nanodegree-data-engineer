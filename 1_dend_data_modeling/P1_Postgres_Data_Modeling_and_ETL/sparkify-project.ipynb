{
 "cells": [
  {
   "cell_type": "markdown",
   "metadata": {},
   "source": [
    "## Sparkify Project\n",
    "\n",
    "Este projeto foi proposto pelo Nanodegree Data Engineer da Udacity.\n",
    "\n",
    "Consiste em extrair os dados de duas fontes:\n",
    "\n",
    "- song_data: Exemplo de cada registro\n",
    "\n",
    "`{\n",
    "\"num_songs\": 1, \n",
    "\"artist_id\": \"ARMJAGH1187FB546F3\", \n",
    "\"artist_latitude\": 35.14968, \n",
    "\"artist_longitude\": -90.04892, \n",
    "\"artist_location\": \"Memphis, TN\", \n",
    "\"artist_name\": \"The Box Tops\", \n",
    "\"song_id\": \"SOCIWDW12A8C13D406\", \n",
    "\"title\": \"Soul Deep\", \n",
    "\"duration\": 148.03546, \n",
    "\"year\": 1969\n",
    "}`\n",
    "\n",
    "- log_data: Exemplo de cada registro\n",
    "\n",
    "`{\n",
    "\"artist\":\"Des'ree\",\n",
    "\"auth\":\"Logged In\",\n",
    "\"firstName\":\"Kaylee\",\n",
    "\"gender\":\"F\",\n",
    "\"itemInSession\":1,\n",
    "\"lastName\":\"Summers\",\n",
    "\"length\":246.30812,\n",
    "\"level\":\"free\",\n",
    "\"location\":\"Phoenix-Mesa-Scottsdale, AZ\",\n",
    "\"method\":\"PUT\",\n",
    "\"page\":\"NextSong\",\n",
    "\"registration\":1540344794796.0,\n",
    "\"sessionId\":139,\n",
    "\"song\":\"You Gotta Be\",\n",
    "\"status\":200,\n",
    "\"ts\":1541106106796,\n",
    "\"userAgent\":\"\\\"Mozilla\\/5.0 (Windows NT 6.1; WOW64) AppleWebKit\\/537.36 (KHTML, like Gecko) Chrome\\/35.0.1916.153 Safari\\/537.36\\\"\",\n",
    "\"userId\":\"8\"\n",
    "}`"
   ]
  },
  {
   "cell_type": "code",
   "execution_count": null,
   "metadata": {},
   "outputs": [],
   "source": [
    "\n"
   ]
  }
 ],
 "metadata": {
  "kernelspec": {
   "display_name": "Python 3",
   "language": "python",
   "name": "python3"
  },
  "language_info": {
   "codemirror_mode": {
    "name": "ipython",
    "version": 3
   },
   "file_extension": ".py",
   "mimetype": "text/x-python",
   "name": "python",
   "nbconvert_exporter": "python",
   "pygments_lexer": "ipython3",
   "version": "3.8.3"
  }
 },
 "nbformat": 4,
 "nbformat_minor": 4
}
